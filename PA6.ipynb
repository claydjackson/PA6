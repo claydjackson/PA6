{
 "cells": [
  {
   "cell_type": "markdown",
   "id": "351a82bd",
   "metadata": {},
   "source": [
    "###  PA6, Clay Jackson, Version 1, CS 150 Spring 2023"
   ]
  },
  {
   "cell_type": "code",
   "execution_count": 1,
   "id": "d5232333",
   "metadata": {},
   "outputs": [
    {
     "name": "stdout",
     "output_type": "stream",
     "text": [
      "Enter the length of the first side: 5\n",
      "Enter the length of the second side: 5\n",
      "Enter the length of the third side: 5\n",
      "The area is:  10.825317547305483 square units\n",
      "The perimeter is:  15 linear units\n"
     ]
    }
   ],
   "source": [
    "import math\n",
    "\n",
    "def calcArea(a=1,b=1,c=1):\n",
    "\n",
    "    S=(a+b+c)/2\n",
    "    area=math.sqrt(S*(S-a)*(S-b)*(S-c))\n",
    "    return area\n",
    "\n",
    "def calcPerimeter(a=1,b=1,c=1):\n",
    "\n",
    "    per=a+b+c\n",
    "    return per\n",
    "\n",
    "a=int(input(\"Enter the length of the first side: \"))\n",
    "b=int(input(\"Enter the length of the second side: \"))\n",
    "c=int(input(\"Enter the length of the third side: \"))\n",
    "\n",
    "area=calcArea(a,b,c)\n",
    "per=calcPerimeter(a,b,c)\n",
    "print(\"The area is: \",area,\"square units\")\n",
    "print(\"The perimeter is: \",per,\"linear units\")"
   ]
  },
  {
   "cell_type": "code",
   "execution_count": null,
   "id": "934c1e37",
   "metadata": {},
   "outputs": [],
   "source": []
  },
  {
   "cell_type": "code",
   "execution_count": 2,
   "id": "80e25fb6",
   "metadata": {},
   "outputs": [
    {
     "name": "stdout",
     "output_type": "stream",
     "text": [
      "Guess a number from 1 to 1000: 500\n",
      "Too high guess again!\n",
      "Guess a number from 1 to 1000: 400\n",
      "Too high guess again!\n",
      "Guess a number from 1 to 1000: 300\n",
      "Too high guess again!\n",
      "Guess a number from 1 to 1000: 200\n",
      "Too high guess again!\n",
      "Guess a number from 1 to 1000: 100\n",
      "Too high guess again!\n",
      "Guess a number from 1 to 1000: 50\n",
      "Correct!!!\n"
     ]
    }
   ],
   "source": [
    "import random\n",
    "\n",
    "def evaluateGuess(guess,num):\n",
    "    if guess>num:\n",
    "        print(\"Too high guess again!\")\n",
    "    elif guess<num:\n",
    "        print(\"Too low guess again!\")\n",
    "    else:\n",
    "        print(\"Correct!!!\")\n",
    "        \n",
    "num=random.randint(1,1000)\n",
    "\n",
    "while True:\n",
    "    guess=int(input(\"Guess a number from 1 to 1000: \"))\n",
    "    evaluateGuess(guess,num)\n",
    "    if guess==num:\n",
    "        break"
   ]
  },
  {
   "cell_type": "code",
   "execution_count": 7,
   "id": "82ef5c79",
   "metadata": {},
   "outputs": [
    {
     "name": "stdout",
     "output_type": "stream",
     "text": [
      "The mean temperature for the past 4 days is 33.25 degrees F.\n",
      "The mean temperature for the past 7 days is 82.0 degrees F.\n",
      "The mean temperature for the past 5 days is 57.0 degrees F.\n"
     ]
    }
   ],
   "source": [
    "def meanTemp(*T):\n",
    "    sum_of_temp=sum(T)\n",
    "    num_of_temp=len(T)\n",
    "    mean_of_temp=sum_of_temp/num_of_temp\n",
    "    print(f\"The mean temperature for the past {num_of_temp} days is {mean_of_temp} degrees F.\")\n",
    "    \n",
    "meanTemp(24,32,41,36)\n",
    "meanTemp(78,84,86,89,77,72,88)\n",
    "meanTemp(66,44,55,59,61)"
   ]
  },
  {
   "cell_type": "code",
   "execution_count": null,
   "id": "8142544e",
   "metadata": {},
   "outputs": [],
   "source": []
  }
 ],
 "metadata": {
  "kernelspec": {
   "display_name": "Python 3 (ipykernel)",
   "language": "python",
   "name": "python3"
  },
  "language_info": {
   "codemirror_mode": {
    "name": "ipython",
    "version": 3
   },
   "file_extension": ".py",
   "mimetype": "text/x-python",
   "name": "python",
   "nbconvert_exporter": "python",
   "pygments_lexer": "ipython3",
   "version": "3.9.13"
  }
 },
 "nbformat": 4,
 "nbformat_minor": 5
}
